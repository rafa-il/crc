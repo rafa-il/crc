{
 "cells": [
  {
   "cell_type": "markdown",
   "metadata": {},
   "source": [
    "# Cyclic Redundancy Check\n"
   ]
  },
  {
   "cell_type": "markdown",
   "metadata": {},
   "source": [
    "## Bit\n",
    "\n",
    " A bit is the smallest representation of data that a computer can understand. It's a one or a zero.\n",
    "\n",
    " The takeaway is that it doesn't matter whether you're streaming your favorite song, emailing your boss, or using an ATM, what you're really doing is sending ones and zeros across the physical layer of the many different networks between you and the server you're interacting with."
   ]
  },
  {
   "attachments": {},
   "cell_type": "markdown",
   "metadata": {},
   "source": [
    "## Physical Layer\n",
    "\n",
    "Moving bits across the wire.\n",
    "\n",
    "The physical layer consists of devices (Hubs and Switches) and means (copper cable, fiber optic) of transmitting bits across computers.\n",
    "\n",
    "<img src=\"files/Copper_Fiber .png\">\n"
   ]
  },
  {
   "cell_type": "markdown",
   "metadata": {},
   "source": [
    "## CRC\n",
    "\n",
    "CRC (Cyclic Redundancy Check) is a checksum algorithm to detect inconsistency of data, e.g. bit errors during data transmission (due to electromagnetic interference, cross talk). A checksum, calculated by CRC, is attached to the data to help the receiver to detect such errors.\n",
    "\n",
    "http://www.sunshine2k.de/articles/coding/crc/understanding_crc.html\n",
    "\n",
    "https://en.wikipedia.org/wiki/Cyclic_redundancy_check\n",
    "\n",
    "<img src=\"files/eth_frame.png\">\n",
    "\n",
    "When a device gets ready to send an Internet frame, it collects all the information, like the destination and originating MAC addresses, the data payload and so on. Then it performs a CRC against that data and attaches the resulting checksum number as the frame check sequence (FCS) at the end of the frame.\n",
    "\n",
    "https://en.wikipedia.org/wiki/Ethernet_frame\n",
    "\n"
   ]
  },
  {
   "cell_type": "code",
   "execution_count": null,
   "metadata": {},
   "outputs": [],
   "source": []
  }
 ],
 "metadata": {
  "kernelspec": {
   "display_name": "Python 3",
   "language": "python",
   "name": "python3"
  },
  "language_info": {
   "codemirror_mode": {
    "name": "ipython",
    "version": 3
   },
   "file_extension": ".py",
   "mimetype": "text/x-python",
   "name": "python",
   "nbconvert_exporter": "python",
   "pygments_lexer": "ipython3",
   "version": "3.8.3"
  }
 },
 "nbformat": 4,
 "nbformat_minor": 4
}
