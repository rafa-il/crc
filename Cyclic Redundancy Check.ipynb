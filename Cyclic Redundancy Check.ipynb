{
 "cells": [
  {
   "cell_type": "markdown",
   "metadata": {},
   "source": [
    "# Cyclic Redundancy Check\n"
   ]
  },
  {
   "cell_type": "markdown",
   "metadata": {},
   "source": [
    "## Bit\n",
    "\n",
    " A bit is the smallest representation of data that a computer can understand. It's a one or a zero.\n",
    "\n",
    " The takeaway is that it doesn't matter whether you're streaming your favorite song, emailing your boss, or using an ATM, what you're really doing is sending ones and zeros across the physical layer of the many different networks between you and the server you're interacting with."
   ]
  },
  {
   "cell_type": "markdown",
   "metadata": {},
   "source": [
    "## Physical Layer\n",
    "\n",
    "Moving bits across the wire.\n",
    "\n",
    "The physical layer consists of devices (Hubs and Switches) and means (copper cable, fiber optic) of transmitting bits across computers.\n",
    "\n",
    "<img src=\"files/pics/Copper_Fiber .png\">\n"
   ]
  },
  {
   "cell_type": "markdown",
   "metadata": {},
   "source": [
    "## CRC\n",
    "\n",
    "CRC (Cyclic Redundancy Check) is a checksum algorithm to detect inconsistency of data, e.g. bit errors during data transmission (due to electromagnetic interference, cross talk). A checksum, calculated by CRC, is attached to the data to help the receiver to detect such errors.\n",
    "\n",
    "http://www.sunshine2k.de/articles/coding/crc/understanding_crc.html\n",
    "\n",
    "https://en.wikipedia.org/wiki/Cyclic_redundancy_check\n",
    "\n",
    "<img src=\"files/pics/eth_frame.png\">\n",
    "\n",
    "When a device gets ready to send an Internet frame, it collects all the information, like the destination and originating MAC addresses, the data payload and so on. Then it performs a CRC against that data and attaches the resulting checksum number as the frame check sequence (FCS) at the end of the frame.\n",
    "\n",
    "https://en.wikipedia.org/wiki/Ethernet_frame\n",
    "\n"
   ]
  },
  {
   "cell_type": "markdown",
   "metadata": {},
   "source": [
    "\n",
    "Ο παρακάτω κώδικας μετατρέπει οποιοδήποτε string σε binary string data, ελεύθερα αλλάξτε το input_string σε ο,τιδήποτε θέλετε και δείτε πως μεταφράζεται σε δυαδικό. Μόνο σιγουρευτείτε ότι θα αφήσετε τα \" \""
   ]
  },
  {
   "cell_type": "code",
   "execution_count": 7,
   "metadata": {},
   "outputs": [
    {
     "name": "stdout",
     "output_type": "stream",
     "text": [
      "100001110100101000011\n"
     ]
    }
   ],
   "source": [
    "input_string = \"CRC\"\n",
    "  \n",
    "def binary_converter(string):\n",
    "    # CONVERT string data to binary string data \n",
    "    binary = (''.join(format(ord(x), 'b') for x in input_string)) \n",
    "    return binary\n",
    "\n",
    "print(binary_converter(input_string))"
   ]
  },
  {
   "cell_type": "code",
   "execution_count": 8,
   "metadata": {},
   "outputs": [
    {
     "name": "stdout",
     "output_type": "stream",
     "text": [
      "10110010010010100000000\n"
     ]
    }
   ],
   "source": [
    "# το παράδειγμα του μαθήματος, μπορείτε να το αλλάξετε σε ό,τι θέλετε.\n",
    "binary = '101100100100101'\n",
    "\n",
    "# για CRC-8 το πολυώνυμο είναι:\n",
    "g_x = '100000111'\n",
    "\n",
    "#το πρώτο βήμα είναι να προσθέσουμε τα μηδενικά.\n",
    "# αυτό το κάνει το παρακάτω function.\n",
    "\n",
    "def append_data(binary, key):\n",
    "    # Appends n-1 zeroes at end of data \n",
    "    l_key = len(key)\n",
    "    appended_data = binary + '0'*(l_key-1)\n",
    "    return appended_data\n",
    "\n",
    "#όπου divedent είναι το M(x)*x^k\n",
    "\n",
    "divident = append_data(binary,g_x)\n",
    "print(divident)"
   ]
  },
  {
   "cell_type": "code",
   "execution_count": 13,
   "metadata": {},
   "outputs": [
    {
     "name": "stdout",
     "output_type": "stream",
     "text": [
      "011\n"
     ]
    }
   ],
   "source": [
    "#το παρακάτω function κάνει την πράξη xor. \n",
    "\n",
    "def xor(a, b): \n",
    "   \n",
    "    # initialize result \n",
    "    result = [] \n",
    "   \n",
    "    # Traverse all bits by one in the right, \n",
    "    #if bits are same, then XOR is 0, else is 1 \n",
    "    \n",
    "    for i in range(1, len(b)): # αντικαταστήστε το 1 με 0 αν θέλετε να γίνει σωστά η πράξη.\n",
    "        if a[i] == b[i]: \n",
    "            result.append('0') \n",
    "        else: \n",
    "            result.append('1') \n",
    "   \n",
    "    return ''.join(result) \n",
    "\n",
    "# ας δοκιμάσουμε το παραπάνω function με δύο υποθετικές τιμές.\n",
    "\n",
    "a = '1001'\n",
    "b = '1010'\n",
    "\n",
    "#estimated result 0011\n",
    "\n",
    "print(xor(a,b))"
   ]
  },
  {
   "cell_type": "markdown",
   "metadata": {},
   "source": [
    "Δεν πήραμε το αναμενόμενο αποτέλεσμα, αντί για 0011 έχουμε 011, μας λείπει δηλαδή το πρώτο bit, αυτό συμβαίνει γιατί χρειαζόμαστε την ολίσθηση για τον υπολογισμό του R(x). Aντικαταστήστε το 1 με 0 αν θέλετε να γίνει σωστά η πράξη.\n",
    "\n",
    "Βεβαιωθείτε ότι κάθε φορά έχετε τρέξει τα προηγούμενα κελιά !!"
   ]
  },
  {
   "cell_type": "code",
   "execution_count": 14,
   "metadata": {},
   "outputs": [],
   "source": [
    "# το παρακάτω function κάνει την διαίρεση.\n",
    "\n",
    "def division(divident, divisor): \n",
    "\n",
    "    # Number of bits to be XORed at a time. \n",
    "    # the lenght of G_x (key)\n",
    "    pick = len(divisor) \n",
    "   \n",
    "    # Slicing the divident to appropriate \n",
    "    # length for particular step \n",
    "    # so divident and divisor have the same length\n",
    "    tmp = divident[0 : pick] \n",
    "   \n",
    "    while pick < len(divident): \n",
    "   \n",
    "        if tmp[0] == '1': \n",
    "   \n",
    "            # replace the divident by the result \n",
    "            # of XOR and pull 1 bit down \n",
    "            tmp = xor(divisor, tmp) + divident[pick] \n",
    "   \n",
    "        elif tmp[0] == '0': \n",
    "  \n",
    "            # If the leftmost bit of the dividend (or the \n",
    "            # part used in each step) is 0, the step cannot \n",
    "            # use the regular divisor; we need to use an \n",
    "            # all-0s divisor. \n",
    "            # so to traverse to the right.\n",
    "            tmp = xor('0'*pick, tmp) + divident[pick] \n",
    "   \n",
    "        # increment pick to move further \n",
    "        # so to keep track where we are\n",
    "        pick += 1\n",
    "   \n",
    "    # For the last n bits, we have to carry it out \n",
    "    # normally as increased value of pick will cause \n",
    "    # Index Out of Bounds. \n",
    "    if tmp[0] == '1': \n",
    "        tmp = xor(divisor, tmp) \n",
    "    else: \n",
    "        tmp = xor('0'*pick, tmp) \n",
    "   \n",
    "    r_x = tmp \n",
    "    \n",
    "    # it returns the R(x)\n",
    "    return r_x"
   ]
  },
  {
   "cell_type": "code",
   "execution_count": 15,
   "metadata": {},
   "outputs": [
    {
     "name": "stdout",
     "output_type": "stream",
     "text": [
      "01001010\n"
     ]
    }
   ],
   "source": [
    "# ας δούμε τώρα αν το όλο εγχείρημα λειτουργεί\n",
    "# με το παράδειγμα του μαθήματος\n",
    "# το αναμενόμενο αποτέλεσμα R(x) είναι 1001010\n",
    "\n",
    "# ανατρέξτε στα προηγούμενα κελιά για να δείτε τις τιμές του divident και g_x\n",
    "\n",
    "# βεβαιωθείτε ότι έχετε τρέξει τα προηγούμενα κελιά.\n",
    "\n",
    "r_x = division(divident, g_x)\n",
    "print(r_x)"
   ]
  },
  {
   "cell_type": "markdown",
   "metadata": {},
   "source": [
    "Το αποτέλεσμα είναι σχεδόν το ίδιο με εξαίρεση ότι έχει ένα μηδενικό bit στην αρχή, κάτι το οποίο δεν μας επηρεάζει."
   ]
  },
  {
   "cell_type": "markdown",
   "metadata": {},
   "source": [
    "Το επόμενο βήμα είναι να υπολογίσουμε το μήνυμα που θα μεταδοθεί."
   ]
  },
  {
   "cell_type": "code",
   "execution_count": 16,
   "metadata": {},
   "outputs": [
    {
     "name": "stdout",
     "output_type": "stream",
     "text": [
      "10110010010010101001010\n"
     ]
    }
   ],
   "source": [
    "t_x = binary + r_x\n",
    "print(t_x)"
   ]
  },
  {
   "cell_type": "code",
   "execution_count": null,
   "metadata": {},
   "outputs": [],
   "source": []
  }
 ],
 "metadata": {
  "kernelspec": {
   "display_name": "Python 3",
   "language": "python",
   "name": "python3"
  },
  "language_info": {
   "codemirror_mode": {
    "name": "ipython",
    "version": 3
   },
   "file_extension": ".py",
   "mimetype": "text/x-python",
   "name": "python",
   "nbconvert_exporter": "python",
   "pygments_lexer": "ipython3",
   "version": "3.8.3"
  }
 },
 "nbformat": 4,
 "nbformat_minor": 4
}
